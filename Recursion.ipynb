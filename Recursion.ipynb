{
 "cells": [
  {
   "cell_type": "markdown",
   "id": "fe2ffa05",
   "metadata": {},
   "source": [
    "# Recursion"
   ]
  },
  {
   "cell_type": "markdown",
   "id": "1a7f7c44",
   "metadata": {},
   "source": [
    "## Looping Solution :"
   ]
  },
  {
   "cell_type": "code",
   "execution_count": 6,
   "id": "67b8deb6",
   "metadata": {},
   "outputs": [
    {
     "name": "stdout",
     "output_type": "stream",
     "text": [
      "Factorial is : 720\n"
     ]
    }
   ],
   "source": [
    "def looping_solution_factorial(n):\n",
    "    if (n<0):\n",
    "        return 0\n",
    "    else:\n",
    "        factorial = 1\n",
    "        for i in range(1,n+1):\n",
    "            factorial *= i\n",
    "        return factorial\n",
    "print(\"Factorial is :\", looping_solution_factorial(6))"
   ]
  },
  {
   "cell_type": "code",
   "execution_count": null,
   "id": "33d27073",
   "metadata": {},
   "outputs": [],
   "source": [
    "# Recursive Solution\n",
    "\n",
    "def recursive_solution_factorial(n):\n",
    "    if n == 0:\n",
    "        return 1\n",
    "    else:\n",
    "        return recursive_solution_factorial(n-1)\n",
    "\n",
    "\n",
    "recursive_solution_factorial(6)"
   ]
  }
 ],
 "metadata": {
  "kernelspec": {
   "display_name": "Python 3.10.7 64-bit",
   "language": "python",
   "name": "python3"
  },
  "language_info": {
   "codemirror_mode": {
    "name": "ipython",
    "version": 3
   },
   "file_extension": ".py",
   "mimetype": "text/x-python",
   "name": "python",
   "nbconvert_exporter": "python",
   "pygments_lexer": "ipython3",
   "version": "3.10.7"
  },
  "vscode": {
   "interpreter": {
    "hash": "ba8088891657b5efda0065fd47e9ddf95b93561eda1c2203a8e0bf6b7a7f7133"
   }
  }
 },
 "nbformat": 4,
 "nbformat_minor": 5
}
