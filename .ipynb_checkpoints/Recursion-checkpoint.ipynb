{
 "cells": [
  {
   "cell_type": "markdown",
   "id": "0dbbe95b",
   "metadata": {},
   "source": [
    "# Recursion"
   ]
  },
  {
   "cell_type": "markdown",
   "id": "d8f41c02",
   "metadata": {},
   "source": [
    "## Looping Solution :"
   ]
  },
  {
   "cell_type": "code",
   "execution_count": 12,
   "id": "39f96d0f",
   "metadata": {},
   "outputs": [
    {
     "name": "stdout",
     "output_type": "stream",
     "text": [
      "Factorial is : 720\n"
     ]
    }
   ],
   "source": [
    "def looping_solution_factorial(n):\n",
    "    if (n<0):\n",
    "        return 0\n",
    "    else:\n",
    "        factorial = 1\n",
    "        for i in range(1,n+1):\n",
    "            factorial *= i\n",
    "        return factorial\n",
    "print(\"Factorial is :\", looping_solution_factorial(6))"
   ]
  },
  {
   "cell_type": "markdown",
   "id": "d4a22bf2",
   "metadata": {},
   "source": [
    "# Recursive Solution"
   ]
  },
  {
   "cell_type": "code",
   "execution_count": 11,
   "id": "f747b5af",
   "metadata": {},
   "outputs": [
    {
     "data": {
      "text/plain": [
       "720"
      ]
     },
     "execution_count": 11,
     "metadata": {},
     "output_type": "execute_result"
    }
   ],
   "source": [
    "def factorial_recursive_solution(n):\n",
    "    \n",
    "    if n == 0:\n",
    "        return 1\n",
    "    \n",
    "    else:\n",
    "        return n*factorial_recursive_solution(n-1)\n",
    "\n",
    "\n",
    "factorial_recursive_solution(6)"
   ]
  },
  {
   "cell_type": "code",
   "execution_count": 14,
   "id": "08c00832",
   "metadata": {},
   "outputs": [
    {
     "name": "stdout",
     "output_type": "stream",
     "text": [
      "Number of disks to be displaced: 5\n"
     ]
    }
   ],
   "source": [
    "# Recursive function for Tower of Hanoi\n",
    "def hanoi(disks, source, helper, destination):\n",
    "    # Base Condition\n",
    "    if (disks == 1):\n",
    "        print('Disk {} moves from tower {} to tower {}.'.format(disks, source, destination))\n",
    "        return\n",
    "\n",
    "    # Recursive calls in which function calls itself\n",
    "    hanoi(disks - 1, source, destination, helper)\n",
    "    print('Disk {} moves from tower {} to tower {}.'.format(disks, source, destination))\n",
    "    hanoi(disks - 1, helper, source, destination)\n",
    "\n",
    "# Driver code\n",
    "disks = int(input('Number of disks to be displaced: '))"
   ]
  },
  {
   "cell_type": "code",
   "execution_count": null,
   "id": "42f5904f",
   "metadata": {},
   "outputs": [],
   "source": []
  }
 ],
 "metadata": {
  "kernelspec": {
   "display_name": "Python 3 (ipykernel)",
   "language": "python",
   "name": "python3"
  },
  "language_info": {
   "codemirror_mode": {
    "name": "ipython",
    "version": 3
   },
   "file_extension": ".py",
   "mimetype": "text/x-python",
   "name": "python",
   "nbconvert_exporter": "python",
   "pygments_lexer": "ipython3",
   "version": "3.10.7"
  }
 },
 "nbformat": 4,
 "nbformat_minor": 5
}
