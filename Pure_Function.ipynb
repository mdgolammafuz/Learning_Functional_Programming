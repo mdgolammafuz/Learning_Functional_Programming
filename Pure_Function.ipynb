{
 "cells": [
  {
   "cell_type": "markdown",
   "id": "da5768b4",
   "metadata": {},
   "source": [
    "## Not a pure function"
   ]
  },
  {
   "cell_type": "code",
   "execution_count": 15,
   "id": "dd675a14",
   "metadata": {},
   "outputs": [
    {
     "name": "stdout",
     "output_type": "stream",
     "text": [
      "My original list :  [1, 2, 3, 4]\n"
     ]
    }
   ],
   "source": [
    "my_list = [1,2,3]\n",
    "\n",
    "def add_to(item):\n",
    "    return my_list.append(item)\n",
    "\n",
    "\n",
    "add_to(4)\n",
    "print(\"My original list : \", my_list)"
   ]
  },
  {
   "cell_type": "code",
   "execution_count": 16,
   "id": "94b47417",
   "metadata": {},
   "outputs": [
    {
     "name": "stdout",
     "output_type": "stream",
     "text": [
      "My original list :  [1, 2, 3, 4]\n",
      "The new list :  [1, 2, 3, 4]\n"
     ]
    }
   ],
   "source": [
    "# not a pure function\n",
    "\n",
    "my_list = [1,2,3]\n",
    "\n",
    "def add_to(item):\n",
    "    return my_list.append(item)\n",
    "\n",
    "\n",
    "new_list = add_to(4)\n",
    "print(\"My original list : \", my_list)\n",
    "print(\"The new list : \", my_list)"
   ]
  },
  {
   "cell_type": "code",
   "execution_count": 1,
   "id": "277f426d",
   "metadata": {},
   "outputs": [],
   "source": [
    "## A Pure Function\n",
    "\n"
   ]
  },
  {
   "cell_type": "code",
   "execution_count": 14,
   "id": "05870913",
   "metadata": {},
   "outputs": [
    {
     "name": "stdout",
     "output_type": "stream",
     "text": [
      "My original list :  [1, 2, 3]\n",
      "The new list :  [1, 2, 3]\n"
     ]
    }
   ],
   "source": [
    "my_list = [1,2,3]\n",
    "\n",
    "def add_to(lst, item):\n",
    "    New_List = lst.copy()\n",
    "    New_List.append(item)\n",
    "    return New_List\n",
    "\n",
    "\n",
    "new_list = add_to(my_list,4)\n",
    "print(\"My original list : \", my_list)\n",
    "print(\"The new list : \", my_list)"
   ]
  },
  {
   "cell_type": "code",
   "execution_count": null,
   "id": "f7f88fa0",
   "metadata": {},
   "outputs": [],
   "source": []
  }
 ],
 "metadata": {
  "kernelspec": {
   "display_name": "Python 3.10.7 64-bit",
   "language": "python",
   "name": "python3"
  },
  "language_info": {
   "codemirror_mode": {
    "name": "ipython",
    "version": 3
   },
   "file_extension": ".py",
   "mimetype": "text/x-python",
   "name": "python",
   "nbconvert_exporter": "python",
   "pygments_lexer": "ipython3",
   "version": "3.10.7"
  },
  "vscode": {
   "interpreter": {
    "hash": "ba8088891657b5efda0065fd47e9ddf95b93561eda1c2203a8e0bf6b7a7f7133"
   }
  }
 },
 "nbformat": 4,
 "nbformat_minor": 5
}
